{
 "cells": [
  {
   "cell_type": "code",
   "execution_count": 1,
   "id": "e2ef3e55-bd55-4826-8232-04fe5eb8b16a",
   "metadata": {},
   "outputs": [
    {
     "data": {
      "text/plain": [
       "'in an e-commerce company the managent want to pridict whteher a customer purchase high value product on their age\\n, time spent on the website and whether they have added item to an card the goal is to optimize marketing \\nstrategies by targeting potential customer more effectivily thereby increse sales and revenue'"
      ]
     },
     "execution_count": 1,
     "metadata": {},
     "output_type": "execute_result"
    }
   ],
   "source": [
    "'''in an e-commerce company the managent want to pridict whteher a customer purchase high value product on their age\n",
    ", time spent on the website and whether they have added item to an card the goal is to optimize marketing \n",
    "strategies by targeting potential customer more effectivily thereby increse sales and revenue'''"
   ]
  },
  {
   "cell_type": "markdown",
   "id": "5bd5d133-0c1a-473b-83cc-c3c2303bb1eb",
   "metadata": {},
   "source": [
    "# is customer buy or not in e-commerce site(like amazon,flipkart,alladin)"
   ]
  },
  {
   "cell_type": "code",
   "execution_count": null,
   "id": "66611618-5914-42ef-b7c7-8c6253c1e608",
   "metadata": {},
   "outputs": [],
   "source": [
    "#### import numpy as nd\n",
    "from sklearn.model_selection import train_test_split\n",
    "from sklearn.linear_model import LogisticRegression\n",
    "\n",
    "x = nd.array([[25,30,0],[30,40,1],[20,35,0],[35,45,1]])\n",
    "y = nd.array([0,1,0,1])\n",
    "x_train,x_test,y_train,y_test=train_test_split(x,y,test_size =0.2,random_state = 42)\n",
    "model = LogisticRegression()\n",
    "model.fit(x_train,y_train)\n",
    "accuracy= model.score(x_test,y_test)\n",
    "user_age = float(input (\"enter user age\"))\n",
    "user_time_spent=int ( input(\"enter time spent on website\"))\n",
    "user_cart = int(input (\"enter 1 if add to cart ,else enter 0\"))\n",
    "user_data = nd.array([[user_age,user_time_spent,user_cart]])\n",
    "prediction = model.predict(user_data)\n",
    "if prediction[0]==1:\n",
    "    print(\"user will buy\")\n",
    "else:\n",
    "    print(\"user is not intrested\")\n",
    "    "
   ]
  },
  {
   "cell_type": "code",
   "execution_count": null,
   "id": "72a7803a-769b-4ecc-83cd-f850e3d373e8",
   "metadata": {},
   "outputs": [],
   "source": []
  },
  {
   "cell_type": "code",
   "execution_count": null,
   "id": "b2c3c50a-4a91-482f-9f2c-7b324dac6f61",
   "metadata": {},
   "outputs": [],
   "source": []
  }
 ],
 "metadata": {
  "kernelspec": {
   "display_name": "Python 3 (ipykernel)",
   "language": "python",
   "name": "python3"
  },
  "language_info": {
   "codemirror_mode": {
    "name": "ipython",
    "version": 3
   },
   "file_extension": ".py",
   "mimetype": "text/x-python",
   "name": "python",
   "nbconvert_exporter": "python",
   "pygments_lexer": "ipython3",
   "version": "3.12.2"
  }
 },
 "nbformat": 4,
 "nbformat_minor": 5
}
